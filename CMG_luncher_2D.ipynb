{
 "cells": [
  {
   "cell_type": "code",
   "execution_count": 187,
   "metadata": {},
   "outputs": [],
   "source": [
    "import os\n",
    "import time\n",
    "import re\n",
    "import random "
   ]
  },
  {
   "cell_type": "code",
   "execution_count": 188,
   "metadata": {},
   "outputs": [],
   "source": [
    "CMG_dir = '\"C:\\\\Program Files\\\\CMG\\\\GEM\\\\2024.30\\\\Win_x64\\\\EXE\\\\gm202430.exe\"'\n",
    "sim_dir = \"D:\\\\Model_Gunsan\\\\Gunsan_CMG_parser\""
   ]
  },
  {
   "cell_type": "code",
   "execution_count": null,
   "metadata": {},
   "outputs": [],
   "source": [
    "files = os.listdir('.')\n",
    "leakage_files = [f for f in files if re.match(r'Leakage\\d+\\_BHF.inc', f)]\n",
    "\n",
    "# 파일수\n",
    "max_number = 0\n",
    "for file in leakage_files:\n",
    "    number = int(re.search(r'\\d+', file).group())\n",
    "    if number > max_number:\n",
    "        max_number = number"
   ]
  },
  {
   "cell_type": "code",
   "execution_count": 190,
   "metadata": {},
   "outputs": [],
   "source": [
    "test_file_name = 'Test2.dat'\n",
    "new_prefix = 'Leakage'\n",
    "sim_list = []"
   ]
  },
  {
   "cell_type": "code",
   "execution_count": null,
   "metadata": {},
   "outputs": [],
   "source": [
    "if os.path.exists(test_file_name):\n",
    "    with open(test_file_name, 'r') as file:\n",
    "        lines = file.readlines()\n",
    "\n",
    "    # INCLUDE 확인\n",
    "    for i in range(1, max_number + 1):\n",
    "        new_file_name = f'Leak{i}_BHF.dat'\n",
    "        new_line_content = f\"INCLUDE '{new_prefix}{i}_BHF.inc'\\n\"\n",
    "        \n",
    "        # INCLUDE 수정\n",
    "        for index, line in enumerate(lines):\n",
    "            if \"INCLUDE 'Leakage_BHF.inc'\" in line:\n",
    "                lines[index] = new_line_content  \n",
    "                break  \n",
    "\n",
    "        with open(new_file_name, 'w') as new_file:\n",
    "            new_file.writelines(lines)\n",
    "\n",
    "        sim_list.append(new_file_name)\n",
    "else:\n",
    "    print(f\"{test_file_name} 파일x\")"
   ]
  },
  {
   "cell_type": "markdown",
   "metadata": {},
   "source": [
    "------"
   ]
  },
  {
   "cell_type": "code",
   "execution_count": 198,
   "metadata": {},
   "outputs": [
    {
     "name": "stdout",
     "output_type": "stream",
     "text": [
      "['Leak1_BHF.dat', 'Leak2_BHF.dat', 'Leak3_BHF.dat', 'Leak4_BHF.dat', 'Leak5_BHF.dat']\n"
     ]
    }
   ],
   "source": [
    "# sim_list 출력\n",
    "print(sim_list)"
   ]
  },
  {
   "cell_type": "code",
   "execution_count": null,
   "metadata": {},
   "outputs": [],
   "source": [
    "for sim in sim_list:\n",
    "    start = time.time()\n",
    "    os.system(f\"{CMG_dir} -f {sim}\")\n",
    "    end = time.time()\n",
    "    tm = (end - start)\n",
    "    print(f'{sim} is completed. ETA: {tm:.2f} s')"
   ]
  },
  {
   "cell_type": "code",
   "execution_count": 1,
   "metadata": {},
   "outputs": [
    {
     "ename": "NameError",
     "evalue": "name 'sim_list' is not defined",
     "output_type": "error",
     "traceback": [
      "\u001b[1;31m---------------------------------------------------------------------------\u001b[0m",
      "\u001b[1;31mNameError\u001b[0m                                 Traceback (most recent call last)",
      "Cell \u001b[1;32mIn[1], line 1\u001b[0m\n\u001b[1;32m----> 1\u001b[0m \u001b[38;5;28;01mfor\u001b[39;00m sim \u001b[38;5;129;01min\u001b[39;00m \u001b[43msim_list\u001b[49m:\n\u001b[0;32m      2\u001b[0m     start \u001b[38;5;241m=\u001b[39m time\u001b[38;5;241m.\u001b[39mtime()\n\u001b[0;32m      3\u001b[0m     os\u001b[38;5;241m.\u001b[39msystem(\u001b[38;5;124mf\u001b[39m\u001b[38;5;124m\"\u001b[39m\u001b[38;5;132;01m{\u001b[39;00mCMG_dir\u001b[38;5;132;01m}\u001b[39;00m\u001b[38;5;124m -f \u001b[39m\u001b[38;5;132;01m{\u001b[39;00mos\u001b[38;5;241m.\u001b[39mpath\u001b[38;5;241m.\u001b[39mjoin(os\u001b[38;5;241m.\u001b[39mgetcwd(), sim)\u001b[38;5;132;01m}\u001b[39;00m\u001b[38;5;124m\"\u001b[39m)\n",
      "\u001b[1;31mNameError\u001b[0m: name 'sim_list' is not defined"
     ]
    }
   ],
   "source": [
    "for sim in sim_list:\n",
    "    start = time.time()\n",
    "    os.system(f\"{CMG_dir} -f {os.path.join(os.getcwd(), sim)}\")\n",
    "    end = time.time()\n",
    "    tm = (end - start)\n",
    "    print(f'{sim} is completed. ETA: {tm:.2f} s')"
   ]
  },
  {
   "cell_type": "code",
   "execution_count": null,
   "metadata": {},
   "outputs": [],
   "source": [
    "# define function to compute n-th fibonacci sequence\n",
    "def fibonacci(n):\n",
    "    if n == 0 or n == 1:\n",
    "        return 1\n",
    "    return fibonacci(n-1) + fibonacci(n-2)\n",
    "\n",
    "if __name__ == \"__main__\":\n",
    "\n",
    "#define function to get sum of elemetns in a list\n",
    "/*************  ✨ Codeium Command 🌟  *************/\n",
    "def fibonacci(n): ## 여기 부분은 ctrl i를 눌러서 그에 해당하는 함수를 바로 만들 수 있음\n",
    "    if n <= 1:\n",
    "        return n\n",
    "    else:\n",
    "        return fibonacci(n-1) + fibonacci(n-2)\n",
    "\n",
    "def sum(list):\n",
    "sum_fib = sum(fibonacci(n) for n in range(1, len(leakage_files) + 1))\n",
    "/******  e391b3a9-65fe-47c1-b4bd-677e9f7d120d  *******/\n",
    "    return sum + list  \n"
   ]
  }
 ],
 "metadata": {
  "kernelspec": {
   "display_name": "base",
   "language": "python",
   "name": "python3"
  },
  "language_info": {
   "codemirror_mode": {
    "name": "ipython",
    "version": 3
   },
   "file_extension": ".py",
   "mimetype": "text/x-python",
   "name": "python",
   "nbconvert_exporter": "python",
   "pygments_lexer": "ipython3",
   "version": "3.10.9"
  }
 },
 "nbformat": 4,
 "nbformat_minor": 2
}
